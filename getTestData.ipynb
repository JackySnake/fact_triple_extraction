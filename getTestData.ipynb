{
 "cells": [
  {
   "cell_type": "code",
   "execution_count": 5,
   "metadata": {},
   "outputs": [],
   "source": [
    "import pandas as pd"
   ]
  },
  {
   "cell_type": "code",
   "execution_count": 6,
   "metadata": {},
   "outputs": [
    {
     "data": {
      "text/html": [
       "<div>\n",
       "<style scoped>\n",
       "    .dataframe tbody tr th:only-of-type {\n",
       "        vertical-align: middle;\n",
       "    }\n",
       "\n",
       "    .dataframe tbody tr th {\n",
       "        vertical-align: top;\n",
       "    }\n",
       "\n",
       "    .dataframe thead th {\n",
       "        text-align: right;\n",
       "    }\n",
       "</style>\n",
       "<table border=\"1\" class=\"dataframe\">\n",
       "  <thead>\n",
       "    <tr style=\"text-align: right;\">\n",
       "      <th></th>\n",
       "      <th>Unnamed: 0</th>\n",
       "      <th>疾病名称</th>\n",
       "      <th>简介</th>\n",
       "    </tr>\n",
       "  </thead>\n",
       "  <tbody>\n",
       "    <tr>\n",
       "      <th>0</th>\n",
       "      <td>0</td>\n",
       "      <td>抑郁症</td>\n",
       "      <td>抑郁症是抑郁障碍的一种（抑郁障碍还包括心境恶劣），是一种慢性复发性疾病，其症状包括情绪低落、...</td>\n",
       "    </tr>\n",
       "    <tr>\n",
       "      <th>1</th>\n",
       "      <td>1</td>\n",
       "      <td>宫颈糜烂</td>\n",
       "      <td>宫颈糜烂是指宫颈柱状上皮异位，并不是真正意义上的糜烂。当宫颈外口表皮的脱落被宫颈口另外一种上...</td>\n",
       "    </tr>\n",
       "    <tr>\n",
       "      <th>2</th>\n",
       "      <td>2</td>\n",
       "      <td>高血压</td>\n",
       "      <td>高血压是以体循环动脉压升高为主要临床表现的心血管综合征，在未用抗高血压药的情况下，非同日3次...</td>\n",
       "    </tr>\n",
       "    <tr>\n",
       "      <th>3</th>\n",
       "      <td>3</td>\n",
       "      <td>早泄</td>\n",
       "      <td>早泄是最常见的男性性功能障碍，发病率是约占成年男性的14%～41%。早泄定义多种多样，一般认...</td>\n",
       "    </tr>\n",
       "    <tr>\n",
       "      <th>4</th>\n",
       "      <td>4</td>\n",
       "      <td>前列腺炎</td>\n",
       "      <td>前列腺炎是由多种复杂原因和诱因引起的与炎症、免疫和神经内分泌相关的病理变化。其临床表现多样，...</td>\n",
       "    </tr>\n",
       "  </tbody>\n",
       "</table>\n",
       "</div>"
      ],
      "text/plain": [
       "   Unnamed: 0  疾病名称                                                 简介\n",
       "0           0   抑郁症  抑郁症是抑郁障碍的一种（抑郁障碍还包括心境恶劣），是一种慢性复发性疾病，其症状包括情绪低落、...\n",
       "1           1  宫颈糜烂  宫颈糜烂是指宫颈柱状上皮异位，并不是真正意义上的糜烂。当宫颈外口表皮的脱落被宫颈口另外一种上...\n",
       "2           2   高血压  高血压是以体循环动脉压升高为主要临床表现的心血管综合征，在未用抗高血压药的情况下，非同日3次...\n",
       "3           3    早泄  早泄是最常见的男性性功能障碍，发病率是约占成年男性的14%～41%。早泄定义多种多样，一般认...\n",
       "4           4  前列腺炎  前列腺炎是由多种复杂原因和诱因引起的与炎症、免疫和神经内分泌相关的病理变化。其临床表现多样，..."
      ]
     },
     "execution_count": 6,
     "metadata": {},
     "output_type": "execute_result"
    }
   ],
   "source": [
    "test1 = pd.read_csv('data/test1.csv',encoding='gbk')\n",
    "test2 = pd.read_csv('data/test2.csv',encoding='gbk')\n",
    "test1.head()"
   ]
  },
  {
   "cell_type": "code",
   "execution_count": 11,
   "metadata": {},
   "outputs": [],
   "source": [
    "test = test1['简介'].tolist()\n",
    "test.extend(test2['简介'].tolist())"
   ]
  },
  {
   "cell_type": "code",
   "execution_count": 13,
   "metadata": {},
   "outputs": [],
   "source": [
    "fw = open('test', 'w')\n",
    "for i in test:\n",
    "    fw.write(i + '\\n')\n",
    "fw.close()"
   ]
  },
  {
   "cell_type": "code",
   "execution_count": null,
   "metadata": {},
   "outputs": [],
   "source": []
  }
 ],
 "metadata": {
  "kernelspec": {
   "display_name": "Python 3",
   "language": "python",
   "name": "python3"
  },
  "language_info": {
   "codemirror_mode": {
    "name": "ipython",
    "version": 3
   },
   "file_extension": ".py",
   "mimetype": "text/x-python",
   "name": "python",
   "nbconvert_exporter": "python",
   "pygments_lexer": "ipython3",
   "version": "3.6.4"
  }
 },
 "nbformat": 4,
 "nbformat_minor": 2
}
